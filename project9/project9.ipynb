{
 "cells": [
  {
   "cell_type": "code",
   "execution_count": 2,
   "id": "d8ea7c17",
   "metadata": {},
   "outputs": [],
   "source": [
    "from pyvis import network as pvnet\n",
    "import networkx as nx\n",
    "import pandas as pd\n",
    "import matplotlib.pyplot as plt\n",
    "import scipy\n",
    "import numpy as np\n",
    "from networkx.drawing.nx_pydot import write_dot"
   ]
  },
  {
   "cell_type": "code",
   "execution_count": 3,
   "id": "c7c0b279",
   "metadata": {},
   "outputs": [],
   "source": [
    "%config Completer.use_jedi = False"
   ]
  },
  {
   "cell_type": "code",
   "execution_count": 4,
   "id": "1d61b3ff",
   "metadata": {},
   "outputs": [],
   "source": [
    "# Visualizing a graph using pyvis\n",
    "def plot_graph_with_pyviz(G, name='out.html', height='500px', width='600px'):\n",
    "    G_copy = G.copy() # some attributes added to nodes\n",
    "    net = pvnet.Network(notebook=True, directed=True, height=height, width=width)\n",
    "    opts = '''\n",
    "        var options = {\n",
    "          \"physics\": {\n",
    "            \"forceAtlas2Based\": {\n",
    "              \"gravitationalConstant\": -100,\n",
    "              \"centralGravity\": 0.11,\n",
    "              \"springLength\": 100,\n",
    "              \"springConstant\": 0.09,\n",
    "              \"avoidOverlap\": 1\n",
    "            },\n",
    "            \"minVelocity\": 0.75,\n",
    "            \"solver\": \"forceAtlas2Based\",\n",
    "            \"timestep\": 0.22\n",
    "          }\n",
    "        }\n",
    "    '''\n",
    "\n",
    "    net.set_options(opts)\n",
    "    net.from_nx(G_copy)\n",
    "    return net.show(name)"
   ]
  },
  {
   "cell_type": "markdown",
   "id": "f5060994",
   "metadata": {},
   "source": [
    "## P9.1\n",
    "\n",
    "Find the analytical formula of the ergodic density for random\n",
    "walk on a graph given by adjacency matrix $A$ with Markov\n",
    "operator $p_{ji} = \\dfrac{A_{ij}}{k_i}.$"
   ]
  },
  {
   "cell_type": "markdown",
   "id": "3fb57476",
   "metadata": {},
   "source": [
    "Let $P = [p_{ij}]_{i\\in S, j\\in S}$ represent a Markov process and $k$ represent the degrees of nodes. Recall that $p_{ji} = \\dfrac{A_{ij}}{k_i}.$ Let us multiply $P$ by $k.$\n",
    "\n",
    "$$ [Pk]_m = \\sum_n p_{mn} k_n = \\sum_n \\dfrac{A_{nm}}{k_n}\\cdot k_n = \\sum_n A_{nm} = k_m$$\n",
    "\n",
    "This means that $Pk = k$ and scaled $k$ is a stationary distribution. \n",
    "\n",
    "$$ \\tilde{k} = \\dfrac{k}{\\sum_n k_n}$$\n",
    "\n",
    "If the number of nodes is finite and the graph is non-periodic and irreducible, then $\\tilde{k}$ is ergodic distribution of this process. Therefore, it doesn't always exist."
   ]
  },
  {
   "cell_type": "markdown",
   "id": "62b785d9",
   "metadata": {},
   "source": [
    "## P9.2\n",
    "\n",
    "Determine numerically (looking for the eigenvector) values of\n",
    "ergodic density for the random walk on selected network. [1P]"
   ]
  },
  {
   "cell_type": "code",
   "execution_count": 5,
   "id": "21b88901",
   "metadata": {},
   "outputs": [],
   "source": [
    "def random_stochastic_matrix(N: int, seed: int = None) -> np.array:\n",
    "    np.random.seed(seed)\n",
    "    \n",
    "    # random values\n",
    "    M = np.random.rand(N, N)\n",
    "    \n",
    "    # random zeros\n",
    "    for _ in range(np.random.randint(0, N*N)):\n",
    "        M[np.random.randint(0, N), np.random.randint(0, N)] = 0\n",
    "    \n",
    "    # making a matrix stochastic\n",
    "    M = M / M.sum(axis=0)\n",
    "    np.random.seed() #reset\n",
    "    \n",
    "    return M"
   ]
  },
  {
   "cell_type": "code",
   "execution_count": 6,
   "id": "52c81dcd",
   "metadata": {
    "scrolled": true
   },
   "outputs": [
    {
     "data": {
      "text/plain": [
       "array([[0.  , 0.  , 0.  , 0.  , 0.  , 0.  , 0.09, 0.  , 0.  , 0.  ],\n",
       "       [0.52, 0.  , 0.  , 0.21, 0.  , 0.  , 0.  , 0.  , 0.51, 0.39],\n",
       "       [0.  , 0.06, 0.  , 0.  , 0.36, 0.23, 0.28, 0.21, 0.  , 0.33],\n",
       "       [0.  , 0.21, 0.46, 0.13, 0.  , 0.  , 0.  , 0.34, 0.  , 0.  ],\n",
       "       [0.  , 0.33, 0.1 , 0.35, 0.29, 0.  , 0.  , 0.36, 0.18, 0.  ],\n",
       "       [0.  , 0.04, 0.  , 0.06, 0.32, 0.49, 0.45, 0.  , 0.  , 0.  ],\n",
       "       [0.45, 0.36, 0.27, 0.  , 0.03, 0.  , 0.04, 0.  , 0.  , 0.  ],\n",
       "       [0.03, 0.  , 0.16, 0.26, 0.  , 0.02, 0.  , 0.  , 0.  , 0.  ],\n",
       "       [0.  , 0.  , 0.  , 0.  , 0.  , 0.  , 0.14, 0.1 , 0.31, 0.  ],\n",
       "       [0.  , 0.  , 0.  , 0.  , 0.  , 0.26, 0.  , 0.  , 0.  , 0.28]])"
      ]
     },
     "execution_count": 6,
     "metadata": {},
     "output_type": "execute_result"
    }
   ],
   "source": [
    "M = random_stochastic_matrix(10, seed=10)\n",
    "M.round(2)"
   ]
  },
  {
   "cell_type": "code",
   "execution_count": 7,
   "id": "516e9782",
   "metadata": {},
   "outputs": [],
   "source": [
    "def generate_Markov(M, eps=1e-5):\n",
    "    n = M.shape[0]\n",
    "    G = nx.MultiDiGraph()\n",
    "    \n",
    "    for i in range(n):\n",
    "        G.add_node(i)\n",
    "\n",
    "    for row in range(n):\n",
    "        for col in range(n):\n",
    "            rate = M[row, col]\n",
    "            if rate > eps:\n",
    "                G.add_edge(col, row, weight=rate, label=np.round(rate, 2))\n",
    "    return G.copy()"
   ]
  },
  {
   "cell_type": "code",
   "execution_count": 8,
   "id": "1cfc2df0",
   "metadata": {
    "scrolled": true
   },
   "outputs": [
    {
     "name": "stdout",
     "output_type": "stream",
     "text": [
      "Local cdn resources have problems on chrome/safari when used in jupyter-notebook. \n"
     ]
    },
    {
     "data": {
      "text/html": [
       "\n",
       "        <iframe\n",
       "            width=\"600px\"\n",
       "            height=\"600px\"\n",
       "            src=\"out.html\"\n",
       "            frameborder=\"0\"\n",
       "            allowfullscreen\n",
       "            \n",
       "        ></iframe>\n",
       "        "
      ],
      "text/plain": [
       "<IPython.lib.display.IFrame at 0x7f1f763896f0>"
      ]
     },
     "execution_count": 8,
     "metadata": {},
     "output_type": "execute_result"
    }
   ],
   "source": [
    "G_markov = generate_Markov(M)\n",
    "plot_graph_with_pyviz(G_markov)"
   ]
  },
  {
   "cell_type": "code",
   "execution_count": 9,
   "id": "a2092756",
   "metadata": {},
   "outputs": [
    {
     "data": {
      "text/plain": [
       "array([ 1.        +0.j        ,  0.38849165+0.j        ,\n",
       "        0.26998964+0.29413655j,  0.26998964-0.29413655j,\n",
       "        0.07358284+0.2524643j ,  0.07358284-0.2524643j ,\n",
       "       -0.30025845+0.j        , -0.1737145 +0.08102735j,\n",
       "       -0.1737145 -0.08102735j,  0.11192549+0.j        ])"
      ]
     },
     "execution_count": 9,
     "metadata": {},
     "output_type": "execute_result"
    }
   ],
   "source": [
    "eigenvalues, eigenvectors = scipy.linalg.eig(M)\n",
    "eigenvalues"
   ]
  },
  {
   "cell_type": "code",
   "execution_count": 10,
   "id": "aa173679",
   "metadata": {
    "scrolled": true
   },
   "outputs": [
    {
     "data": {
      "text/plain": [
       "array([0.007, 0.074, 0.171, 0.134, 0.164, 0.201, 0.086, 0.067, 0.026,\n",
       "       0.071])"
      ]
     },
     "execution_count": 10,
     "metadata": {},
     "output_type": "execute_result"
    }
   ],
   "source": [
    "rounded_eigenvectors = np.round(np.real(eigenvectors), 2)\n",
    "pi = rounded_eigenvectors[:, np.where(np.abs(eigenvalues - 1)<1e-14),].flatten()\n",
    "pi /= pi.sum()\n",
    "np.round(pi, 3)"
   ]
  },
  {
   "cell_type": "markdown",
   "id": "285715a0",
   "metadata": {},
   "source": [
    "## P9.3\n",
    "\n",
    "Determine dynamically (by iterating the Markov operator)\n",
    "ergodic density for the random walk on selected network. [1P]"
   ]
  },
  {
   "cell_type": "code",
   "execution_count": 12,
   "id": "73e7d39f",
   "metadata": {},
   "outputs": [],
   "source": [
    "M_for_iteration = M.copy()\n",
    "for _ in range(30):\n",
    "    M_for_iteration = np.matmul(M_for_iteration, M_for_iteration)"
   ]
  },
  {
   "cell_type": "code",
   "execution_count": 13,
   "id": "2be7a2c9",
   "metadata": {},
   "outputs": [
    {
     "data": {
      "text/plain": [
       "array([[0.01, 0.01, 0.01, 0.01, 0.01, 0.01, 0.01, 0.01, 0.01, 0.01],\n",
       "       [0.07, 0.07, 0.07, 0.07, 0.07, 0.07, 0.07, 0.07, 0.07, 0.07],\n",
       "       [0.17, 0.17, 0.17, 0.17, 0.17, 0.17, 0.17, 0.17, 0.17, 0.17],\n",
       "       [0.13, 0.13, 0.13, 0.13, 0.13, 0.13, 0.13, 0.13, 0.13, 0.13],\n",
       "       [0.16, 0.16, 0.16, 0.16, 0.16, 0.16, 0.16, 0.16, 0.16, 0.16],\n",
       "       [0.2 , 0.2 , 0.2 , 0.2 , 0.2 , 0.2 , 0.2 , 0.2 , 0.2 , 0.2 ],\n",
       "       [0.09, 0.09, 0.09, 0.09, 0.09, 0.09, 0.09, 0.09, 0.09, 0.09],\n",
       "       [0.07, 0.07, 0.07, 0.07, 0.07, 0.07, 0.07, 0.07, 0.07, 0.07],\n",
       "       [0.03, 0.03, 0.03, 0.03, 0.03, 0.03, 0.03, 0.03, 0.03, 0.03],\n",
       "       [0.07, 0.07, 0.07, 0.07, 0.07, 0.07, 0.07, 0.07, 0.07, 0.07]])"
      ]
     },
     "execution_count": 13,
     "metadata": {},
     "output_type": "execute_result"
    }
   ],
   "source": [
    "M_for_iteration.round(2)"
   ]
  },
  {
   "cell_type": "code",
   "execution_count": 14,
   "id": "4671992f",
   "metadata": {},
   "outputs": [
    {
     "name": "stdout",
     "output_type": "stream",
     "text": [
      "Local cdn resources have problems on chrome/safari when used in jupyter-notebook. \n"
     ]
    },
    {
     "data": {
      "text/html": [
       "\n",
       "        <iframe\n",
       "            width=\"600px\"\n",
       "            height=\"600px\"\n",
       "            src=\"out.html\"\n",
       "            frameborder=\"0\"\n",
       "            allowfullscreen\n",
       "            \n",
       "        ></iframe>\n",
       "        "
      ],
      "text/plain": [
       "<IPython.lib.display.IFrame at 0x7f1f755c1990>"
      ]
     },
     "execution_count": 14,
     "metadata": {},
     "output_type": "execute_result"
    }
   ],
   "source": [
    "G_markov = generate_Markov(M_for_iteration)\n",
    "plot_graph_with_pyviz(G_markov)"
   ]
  },
  {
   "cell_type": "markdown",
   "id": "457cbdff",
   "metadata": {},
   "source": [
    "## P9.5\n",
    "\n",
    "Determine the value of classic or modified pagerank for the\n",
    "selected network. [1.5P]\n"
   ]
  },
  {
   "cell_type": "code",
   "execution_count": 15,
   "id": "d77ad7be",
   "metadata": {},
   "outputs": [],
   "source": [
    "N = 30\n",
    "M = 50\n",
    "G = nx.generators.barabasi_albert_graph(M, N)"
   ]
  },
  {
   "cell_type": "code",
   "execution_count": 16,
   "id": "d0e5ab8b",
   "metadata": {
    "scrolled": false
   },
   "outputs": [
    {
     "name": "stdout",
     "output_type": "stream",
     "text": [
      "Local cdn resources have problems on chrome/safari when used in jupyter-notebook. \n"
     ]
    },
    {
     "data": {
      "text/html": [
       "\n",
       "        <iframe\n",
       "            width=\"600px\"\n",
       "            height=\"600px\"\n",
       "            src=\"out.html\"\n",
       "            frameborder=\"0\"\n",
       "            allowfullscreen\n",
       "            \n",
       "        ></iframe>\n",
       "        "
      ],
      "text/plain": [
       "<IPython.lib.display.IFrame at 0x7f1f755e2260>"
      ]
     },
     "execution_count": 16,
     "metadata": {},
     "output_type": "execute_result"
    }
   ],
   "source": [
    "G2 = nx.DiGraph(nx.directed.random_k_out_graph(15, 5, 0.7, seed=12))\n",
    "plot_graph_with_pyviz(G)"
   ]
  },
  {
   "cell_type": "code",
   "execution_count": 17,
   "id": "f2f663e7",
   "metadata": {},
   "outputs": [
    {
     "name": "stderr",
     "output_type": "stream",
     "text": [
      "/tmp/ipykernel_528/693543473.py:1: FutureWarning: adjacency_matrix will return a scipy.sparse array instead of a matrix in Networkx 3.0.\n",
      "  A = nx.linalg.adjacency_matrix(G).todense()\n"
     ]
    },
    {
     "data": {
      "text/plain": [
       "array([[0.  , 0.02, 0.02, ..., 0.02, 0.02, 0.02],\n",
       "       [0.08, 0.  , 0.  , ..., 0.08, 0.  , 0.  ],\n",
       "       [0.06, 0.  , 0.  , ..., 0.06, 0.  , 0.06],\n",
       "       ...,\n",
       "       [0.03, 0.03, 0.03, ..., 0.  , 0.03, 0.03],\n",
       "       [0.03, 0.  , 0.  , ..., 0.03, 0.  , 0.03],\n",
       "       [0.03, 0.  , 0.03, ..., 0.03, 0.03, 0.  ]])"
      ]
     },
     "execution_count": 17,
     "metadata": {},
     "output_type": "execute_result"
    }
   ],
   "source": [
    "A = nx.linalg.adjacency_matrix(G).todense()\n",
    "A_normalized = (A / A.sum(axis=1)).round(2)\n",
    "A_normalized"
   ]
  },
  {
   "cell_type": "code",
   "execution_count": 18,
   "id": "faade1ec",
   "metadata": {},
   "outputs": [
    {
     "name": "stderr",
     "output_type": "stream",
     "text": [
      "/tmp/ipykernel_528/2355979357.py:1: FutureWarning: adjacency_matrix will return a scipy.sparse array instead of a matrix in Networkx 3.0.\n",
      "  A2 = nx.linalg.adjacency_matrix(G2).todense()\n"
     ]
    },
    {
     "data": {
      "text/plain": [
       "array([[0.  , 0.  , 0.  , 0.  , 0.  , 0.  , 0.2 , 0.2 , 0.2 , 0.2 , 0.  ,\n",
       "        0.  , 0.2 , 0.  , 0.  ],\n",
       "       [0.  , 0.  , 0.  , 0.  , 0.  , 0.33, 0.33, 0.  , 0.  , 0.33, 0.  ,\n",
       "        0.  , 0.  , 0.  , 0.  ],\n",
       "       [0.  , 0.  , 0.  , 0.  , 0.  , 0.25, 0.  , 0.  , 0.25, 0.25, 0.  ,\n",
       "        0.  , 0.  , 0.25, 0.  ],\n",
       "       [0.  , 0.  , 0.25, 0.  , 0.  , 0.  , 0.25, 0.  , 0.25, 0.  , 0.  ,\n",
       "        0.  , 0.  , 0.25, 0.  ],\n",
       "       [0.  , 0.  , 0.33, 0.  , 0.  , 0.  , 0.  , 0.  , 0.33, 0.33, 0.  ,\n",
       "        0.  , 0.  , 0.  , 0.  ],\n",
       "       [0.  , 0.  , 0.  , 0.  , 0.  , 0.  , 0.33, 0.  , 0.  , 0.33, 0.  ,\n",
       "        0.  , 0.33, 0.  , 0.  ],\n",
       "       [0.  , 0.  , 0.  , 0.  , 0.  , 0.33, 0.  , 0.  , 0.  , 0.33, 0.  ,\n",
       "        0.  , 0.33, 0.  , 0.  ],\n",
       "       [0.  , 0.  , 0.  , 0.  , 0.2 , 0.  , 0.2 , 0.  , 0.2 , 0.  , 0.  ,\n",
       "        0.  , 0.2 , 0.  , 0.2 ],\n",
       "       [0.  , 0.25, 0.  , 0.  , 0.  , 0.  , 0.25, 0.  , 0.  , 0.25, 0.  ,\n",
       "        0.  , 0.25, 0.  , 0.  ],\n",
       "       [0.  , 0.  , 0.  , 0.  , 0.  , 0.5 , 0.  , 0.  , 0.5 , 0.  , 0.  ,\n",
       "        0.  , 0.  , 0.  , 0.  ],\n",
       "       [0.  , 0.  , 0.  , 0.  , 0.  , 0.  , 0.33, 0.  , 0.  , 0.33, 0.  ,\n",
       "        0.33, 0.  , 0.  , 0.  ],\n",
       "       [0.  , 0.  , 0.2 , 0.  , 0.  , 0.2 , 0.  , 0.  , 0.2 , 0.2 , 0.  ,\n",
       "        0.2 , 0.  , 0.  , 0.  ],\n",
       "       [0.  , 0.  , 0.  , 0.  , 0.33, 0.  , 0.33, 0.  , 0.  , 0.33, 0.  ,\n",
       "        0.  , 0.  , 0.  , 0.  ],\n",
       "       [0.  , 0.  , 0.25, 0.  , 0.  , 0.  , 0.  , 0.  , 0.25, 0.25, 0.  ,\n",
       "        0.  , 0.25, 0.  , 0.  ],\n",
       "       [0.  , 0.  , 0.33, 0.  , 0.  , 0.  , 0.  , 0.  , 0.33, 0.33, 0.  ,\n",
       "        0.  , 0.  , 0.  , 0.  ]])"
      ]
     },
     "execution_count": 18,
     "metadata": {},
     "output_type": "execute_result"
    }
   ],
   "source": [
    "A2 = nx.linalg.adjacency_matrix(G2).todense()\n",
    "A2_normalized = (A2 / A2.sum(axis=1)).round(2)\n",
    "A2_normalized"
   ]
  },
  {
   "cell_type": "code",
   "execution_count": 19,
   "id": "ad8230c0",
   "metadata": {},
   "outputs": [
    {
     "data": {
      "text/plain": [
       "{0: 0.03902280751208405,\n",
       " 1: 0.011167819286311281,\n",
       " 2: 0.013909897339015606,\n",
       " 3: 0.012516822181972911,\n",
       " 4: 0.01388742879494191,\n",
       " 5: 0.012534275751645192,\n",
       " 6: 0.009125868987268542,\n",
       " 7: 0.013887834258507727,\n",
       " 8: 0.011143376530057644,\n",
       " 9: 0.007757960445257318,\n",
       " 10: 0.012550581550433065,\n",
       " 11: 0.011838221655428263,\n",
       " 12: 0.012529372725700837,\n",
       " 13: 0.016626609815427885,\n",
       " 14: 0.013898397317675015,\n",
       " 15: 0.013197567348605561,\n",
       " 16: 0.015249358986899537,\n",
       " 17: 0.01388990750323297,\n",
       " 18: 0.014565671944411442,\n",
       " 19: 0.013210347401299921,\n",
       " 20: 0.014563687531339634,\n",
       " 21: 0.012537279607879884,\n",
       " 22: 0.013202051413877097,\n",
       " 23: 0.009778911852499258,\n",
       " 24: 0.00912347691322954,\n",
       " 25: 0.009135889195573255,\n",
       " 26: 0.013888975809483043,\n",
       " 27: 0.013213038433295798,\n",
       " 28: 0.01183322395867207,\n",
       " 29: 0.013904173182081741,\n",
       " 30: 0.01389580635152703,\n",
       " 31: 0.036890237316145026,\n",
       " 32: 0.03662713179463406,\n",
       " 33: 0.03643171390378239,\n",
       " 34: 0.0357303797507249,\n",
       " 35: 0.03493875502257578,\n",
       " 36: 0.034432457152733055,\n",
       " 37: 0.03335922216796109,\n",
       " 38: 0.03192343928533499,\n",
       " 39: 0.03124631460320932,\n",
       " 40: 0.02993253104808413,\n",
       " 41: 0.030281192682074524,\n",
       " 42: 0.027328667525047444,\n",
       " 43: 0.027297596342819124,\n",
       " 44: 0.026649063246221166,\n",
       " 45: 0.027712388907811848,\n",
       " 46: 0.02646907265370185,\n",
       " 47: 0.026006183036901102,\n",
       " 48: 0.024857573533511337,\n",
       " 49: 0.0242994384410919}"
      ]
     },
     "execution_count": 19,
     "metadata": {},
     "output_type": "execute_result"
    }
   ],
   "source": [
    "G_pagerank = nx.pagerank(G)\n",
    "G_pagerank"
   ]
  },
  {
   "cell_type": "code",
   "execution_count": 20,
   "id": "6df08c3b",
   "metadata": {},
   "outputs": [],
   "source": [
    "G_sorted_nodes = sorted([(node, pagerank) for node, pagerank in G_pagerank.items()], key=lambda x : G_pagerank[x[0]])"
   ]
  },
  {
   "cell_type": "code",
   "execution_count": 21,
   "id": "1404bbce",
   "metadata": {},
   "outputs": [
    {
     "data": {
      "text/plain": [
       "[(9, 0.007757960445257318),\n",
       " (24, 0.00912347691322954),\n",
       " (6, 0.009125868987268542),\n",
       " (25, 0.009135889195573255),\n",
       " (23, 0.009778911852499258),\n",
       " (8, 0.011143376530057644),\n",
       " (1, 0.011167819286311281),\n",
       " (28, 0.01183322395867207),\n",
       " (11, 0.011838221655428263),\n",
       " (3, 0.012516822181972911),\n",
       " (12, 0.012529372725700837),\n",
       " (5, 0.012534275751645192),\n",
       " (21, 0.012537279607879884),\n",
       " (10, 0.012550581550433065),\n",
       " (15, 0.013197567348605561),\n",
       " (22, 0.013202051413877097),\n",
       " (19, 0.013210347401299921),\n",
       " (27, 0.013213038433295798),\n",
       " (4, 0.01388742879494191),\n",
       " (7, 0.013887834258507727),\n",
       " (26, 0.013888975809483043),\n",
       " (17, 0.01388990750323297),\n",
       " (30, 0.01389580635152703),\n",
       " (14, 0.013898397317675015),\n",
       " (29, 0.013904173182081741),\n",
       " (2, 0.013909897339015606),\n",
       " (20, 0.014563687531339634),\n",
       " (18, 0.014565671944411442),\n",
       " (16, 0.015249358986899537),\n",
       " (13, 0.016626609815427885),\n",
       " (49, 0.0242994384410919),\n",
       " (48, 0.024857573533511337),\n",
       " (47, 0.026006183036901102),\n",
       " (46, 0.02646907265370185),\n",
       " (44, 0.026649063246221166),\n",
       " (43, 0.027297596342819124),\n",
       " (42, 0.027328667525047444),\n",
       " (45, 0.027712388907811848),\n",
       " (40, 0.02993253104808413),\n",
       " (41, 0.030281192682074524),\n",
       " (39, 0.03124631460320932),\n",
       " (38, 0.03192343928533499),\n",
       " (37, 0.03335922216796109),\n",
       " (36, 0.034432457152733055),\n",
       " (35, 0.03493875502257578),\n",
       " (34, 0.0357303797507249),\n",
       " (33, 0.03643171390378239),\n",
       " (32, 0.03662713179463406),\n",
       " (31, 0.036890237316145026),\n",
       " (0, 0.03902280751208405)]"
      ]
     },
     "execution_count": 21,
     "metadata": {},
     "output_type": "execute_result"
    }
   ],
   "source": [
    "G_sorted_nodes"
   ]
  },
  {
   "cell_type": "code",
   "execution_count": 22,
   "id": "e0af59fa",
   "metadata": {
    "scrolled": true
   },
   "outputs": [
    {
     "data": {
      "text/plain": [
       "{0: 0.010000000000000002,\n",
       " 1: 0.039220854276793754,\n",
       " 2: 0.03646831221518639,\n",
       " 3: 0.010000000000000002,\n",
       " 4: 0.04974315066651376,\n",
       " 5: 0.1614639387683223,\n",
       " 6: 0.14248378826260183,\n",
       " 7: 0.011700000000000002,\n",
       " 8: 0.13750994401090297,\n",
       " 9: 0.21083249070829474,\n",
       " 10: 0.010000000000000002,\n",
       " 11: 0.015461847888725882,\n",
       " 12: 0.1332525806831668,\n",
       " 13: 0.019874092519491446,\n",
       " 14: 0.011989000000000003}"
      ]
     },
     "execution_count": 22,
     "metadata": {},
     "output_type": "execute_result"
    }
   ],
   "source": [
    "G2_pagerank = nx.pagerank(G2)\n",
    "G2_pagerank"
   ]
  },
  {
   "cell_type": "code",
   "execution_count": 23,
   "id": "283a8ff8",
   "metadata": {
    "scrolled": true
   },
   "outputs": [
    {
     "data": {
      "text/plain": [
       "[(0, 0.010000000000000002),\n",
       " (3, 0.010000000000000002),\n",
       " (10, 0.010000000000000002),\n",
       " (7, 0.011700000000000002),\n",
       " (14, 0.011989000000000003),\n",
       " (11, 0.015461847888725882),\n",
       " (13, 0.019874092519491446),\n",
       " (2, 0.03646831221518639),\n",
       " (1, 0.039220854276793754),\n",
       " (4, 0.04974315066651376),\n",
       " (12, 0.1332525806831668),\n",
       " (8, 0.13750994401090297),\n",
       " (6, 0.14248378826260183),\n",
       " (5, 0.1614639387683223),\n",
       " (9, 0.21083249070829474)]"
      ]
     },
     "execution_count": 23,
     "metadata": {},
     "output_type": "execute_result"
    }
   ],
   "source": [
    "G2_sorted_nodes = sorted([(node, pagerank) for node, pagerank in G2_pagerank.items()], key=lambda x : G2_pagerank[x[0]])\n",
    "G2_sorted_nodes"
   ]
  },
  {
   "cell_type": "markdown",
   "id": "e53a87b7",
   "metadata": {},
   "source": [
    "### Own implementation"
   ]
  },
  {
   "cell_type": "code",
   "execution_count": 24,
   "id": "673f43e6",
   "metadata": {},
   "outputs": [],
   "source": [
    "class PageRank:\n",
    "    def __init__(self, G: nx.Graph, alpha: float = 0.85, n_iter: int = 1000):\n",
    "        self.alpha = alpha\n",
    "        self.n_iter = n_iter\n",
    "        self.G = G\n",
    "        adjacency_matrix = nx.linalg.adjacency_matrix(self.G).todense()\n",
    "        self.adjacency_matrix = adjacency_matrix / adjacency_matrix.sum(axis=1)\n",
    "        self.pagerank = np.ones(len(self.G)).reshape(1, -1)\n",
    "    \n",
    "    def update_pagerank(self):\n",
    "        self.pagerank = self.pagerank @ self.adjacency_matrix\n",
    "        self.pagerank /= self.pagerank.sum()\n",
    "        self.pagerank = (1 - self.alpha) / len(self.pagerank) + self.alpha * self.pagerank\n",
    "    \n",
    "    def get_pagerank(self):\n",
    "        for _ in range(self.n_iter):\n",
    "            self.update_pagerank()\n",
    "        return np.array(self.pagerank).reshape(-1)"
   ]
  },
  {
   "cell_type": "code",
   "execution_count": 25,
   "id": "ca561bdb",
   "metadata": {
    "scrolled": true
   },
   "outputs": [
    {
     "name": "stderr",
     "output_type": "stream",
     "text": [
      "/tmp/ipykernel_528/3207734233.py:6: FutureWarning: adjacency_matrix will return a scipy.sparse array instead of a matrix in Networkx 3.0.\n",
      "  adjacency_matrix = nx.linalg.adjacency_matrix(self.G).todense()\n"
     ]
    }
   ],
   "source": [
    "pr = PageRank(G2)\n",
    "pr_value = pr.get_pagerank()"
   ]
  },
  {
   "cell_type": "code",
   "execution_count": 26,
   "id": "51602322",
   "metadata": {},
   "outputs": [
    {
     "data": {
      "text/plain": [
       "([0.15000000000000002,\n",
       "  0.15000000000000002,\n",
       "  0.15000000000000002,\n",
       "  0.15822580645161294,\n",
       "  0.15867689906347557,\n",
       "  0.17000216490324915,\n",
       "  0.1732081911262799,\n",
       "  0.17487233181965522,\n",
       "  0.1813249829913613,\n",
       "  0.2128434288984994,\n",
       "  0.24779668297569102,\n",
       "  0.2620411025859428,\n",
       "  0.2730327153533,\n",
       "  0.2917962880003404,\n",
       "  0.3461794058305925],\n",
       " {0: 0.03902280751208405,\n",
       "  1: 0.011167819286311281,\n",
       "  2: 0.013909897339015606,\n",
       "  3: 0.012516822181972911,\n",
       "  4: 0.01388742879494191,\n",
       "  5: 0.012534275751645192,\n",
       "  6: 0.009125868987268542,\n",
       "  7: 0.013887834258507727,\n",
       "  8: 0.011143376530057644,\n",
       "  9: 0.007757960445257318,\n",
       "  10: 0.012550581550433065,\n",
       "  11: 0.011838221655428263,\n",
       "  12: 0.012529372725700837,\n",
       "  13: 0.016626609815427885,\n",
       "  14: 0.013898397317675015,\n",
       "  15: 0.013197567348605561,\n",
       "  16: 0.015249358986899537,\n",
       "  17: 0.01388990750323297,\n",
       "  18: 0.014565671944411442,\n",
       "  19: 0.013210347401299921,\n",
       "  20: 0.014563687531339634,\n",
       "  21: 0.012537279607879884,\n",
       "  22: 0.013202051413877097,\n",
       "  23: 0.009778911852499258,\n",
       "  24: 0.00912347691322954,\n",
       "  25: 0.009135889195573255,\n",
       "  26: 0.013888975809483043,\n",
       "  27: 0.013213038433295798,\n",
       "  28: 0.01183322395867207,\n",
       "  29: 0.013904173182081741,\n",
       "  30: 0.01389580635152703,\n",
       "  31: 0.036890237316145026,\n",
       "  32: 0.03662713179463406,\n",
       "  33: 0.03643171390378239,\n",
       "  34: 0.0357303797507249,\n",
       "  35: 0.03493875502257578,\n",
       "  36: 0.034432457152733055,\n",
       "  37: 0.03335922216796109,\n",
       "  38: 0.03192343928533499,\n",
       "  39: 0.03124631460320932,\n",
       "  40: 0.02993253104808413,\n",
       "  41: 0.030281192682074524,\n",
       "  42: 0.027328667525047444,\n",
       "  43: 0.027297596342819124,\n",
       "  44: 0.026649063246221166,\n",
       "  45: 0.027712388907811848,\n",
       "  46: 0.02646907265370185,\n",
       "  47: 0.026006183036901102,\n",
       "  48: 0.024857573533511337,\n",
       "  49: 0.0242994384410919})"
      ]
     },
     "execution_count": 26,
     "metadata": {},
     "output_type": "execute_result"
    }
   ],
   "source": [
    "sorted(pr_value), G_pagerank"
   ]
  },
  {
   "cell_type": "code",
   "execution_count": 27,
   "id": "c45cd77b",
   "metadata": {},
   "outputs": [
    {
     "data": {
      "image/png": "[encoded data removed]",
      "text/plain": [
       "<Figure size 640x480 with 1 Axes>"
      ]
     },
     "metadata": {},
     "output_type": "display_data"
    }
   ],
   "source": [
    "nx.draw_kamada_kawai(G2, with_labels=True, node_size=pr_value**3*1e5)"
   ]
  },
  {
   "cell_type": "code",
   "execution_count": null,
   "id": "7e6e4eb9",
   "metadata": {},
   "outputs": [],
   "source": []
  }
 ],
 "metadata": {
  "kernelspec": {
   "display_name": "Python 3.10 (networkX + iGraph)",
   "language": "python",
   "name": "snars"
  },
  "language_info": {
   "codemirror_mode": {
    "name": "ipython",
    "version": 3
   },
   "file_extension": ".py",
   "mimetype": "text/x-python",
   "name": "python",
   "nbconvert_exporter": "python",
   "pygments_lexer": "ipython3",
   "version": "3.10.4"
  }
 },
 "nbformat": 4,
 "nbformat_minor": 5
}
