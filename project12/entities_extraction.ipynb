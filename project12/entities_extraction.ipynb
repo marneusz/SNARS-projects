{
 "cells": [
  {
   "cell_type": "code",
   "execution_count": 1,
   "id": "651f2286-5e56-4d62-9047-933ba9e8ddd9",
   "metadata": {},
   "outputs": [],
   "source": [
    "# prerequisites:\n",
    "# pip install polyglot\n",
    "# pip3 install pyicu\n",
    "# pip3 install pycld2\n",
    "# pip3 install morfessor\n",
    "\n",
    "# https://www.lyonwj.com/blog/entity-extraction-russian-troll-tweets-neo4j\n",
    "# https://medium.com/hackernoon/install-polyglot-on-mac-3c90445abc1f\n",
    "# https://stackoverflow.com/questions/64886067/polyglot-importerror-cannot-import-name-locale-from-icu\n",
    "# http://brandonrose.org/ner2sna\n",
    "\n",
    "from polyglot.text import Text\n",
    "import pandas as pd\n",
    "from tqdm.notebook import tqdm\n",
    "import json\n",
    "import sys\n",
    "\n",
    "from polyglot.detect.base import logger as polyglot_logger\n",
    "polyglot_logger.setLevel(\"ERROR\")"
   ]
  },
  {
   "cell_type": "code",
   "execution_count": 2,
   "id": "834e2154-54ba-4e78-bdca-f602552c0d5c",
   "metadata": {},
   "outputs": [
    {
     "data": {
      "text/plain": [
       "[I-PER(['Hillary', 'Clinton'])]"
      ]
     },
     "execution_count": 2,
     "metadata": {},
     "output_type": "execute_result"
    }
   ],
   "source": [
    "# test\n",
    "blob = Text('@realDonaldTrump \"Hillary Clinton has zero record to run on - unless you call corruption positive..\" - @IngrahamAngle')\n",
    "blob.entities"
   ]
  },
  {
   "cell_type": "code",
   "execution_count": 3,
   "id": "c6a15928-6aad-4397-aaeb-8561ed7f16de",
   "metadata": {},
   "outputs": [
    {
     "data": {
      "text/html": [
       "<div>\n",
       "<style scoped>\n",
       "    .dataframe tbody tr th:only-of-type {\n",
       "        vertical-align: middle;\n",
       "    }\n",
       "\n",
       "    .dataframe tbody tr th {\n",
       "        vertical-align: top;\n",
       "    }\n",
       "\n",
       "    .dataframe thead th {\n",
       "        text-align: right;\n",
       "    }\n",
       "</style>\n",
       "<table border=\"1\" class=\"dataframe\">\n",
       "  <thead>\n",
       "    <tr style=\"text-align: right;\">\n",
       "      <th></th>\n",
       "      <th>user_id</th>\n",
       "      <th>user_key</th>\n",
       "      <th>created_at</th>\n",
       "      <th>created_str</th>\n",
       "      <th>retweet_count</th>\n",
       "      <th>retweeted</th>\n",
       "      <th>favorite_count</th>\n",
       "      <th>text</th>\n",
       "      <th>tweet_id</th>\n",
       "      <th>source</th>\n",
       "      <th>hashtags</th>\n",
       "      <th>expanded_urls</th>\n",
       "      <th>posted</th>\n",
       "      <th>mentions</th>\n",
       "      <th>retweeted_status_id</th>\n",
       "      <th>in_reply_to_status_id</th>\n",
       "    </tr>\n",
       "  </thead>\n",
       "  <tbody>\n",
       "    <tr>\n",
       "      <th>0</th>\n",
       "      <td>2.532612e+09</td>\n",
       "      <td>kathiemrr</td>\n",
       "      <td>1.488207e+12</td>\n",
       "      <td>2017-02-27 14:54:00</td>\n",
       "      <td>NaN</td>\n",
       "      <td>NaN</td>\n",
       "      <td>NaN</td>\n",
       "      <td>#ThingsDoneByMistake kissing auntie in the lips</td>\n",
       "      <td>8.362279e+17</td>\n",
       "      <td>NaN</td>\n",
       "      <td>[\"ThingsDoneByMistake\"]</td>\n",
       "      <td>[]</td>\n",
       "      <td>POSTED</td>\n",
       "      <td>[]</td>\n",
       "      <td>NaN</td>\n",
       "      <td>NaN</td>\n",
       "    </tr>\n",
       "    <tr>\n",
       "      <th>1</th>\n",
       "      <td>2.531160e+09</td>\n",
       "      <td>traceyhappymom</td>\n",
       "      <td>1.471273e+12</td>\n",
       "      <td>2016-08-15 14:50:20</td>\n",
       "      <td>NaN</td>\n",
       "      <td>NaN</td>\n",
       "      <td>NaN</td>\n",
       "      <td>RT @mc_derpin: #TheOlderWeGet the more pessimi...</td>\n",
       "      <td>7.651989e+17</td>\n",
       "      <td>NaN</td>\n",
       "      <td>[\"TheOlderWeGet\"]</td>\n",
       "      <td>[]</td>\n",
       "      <td>POSTED</td>\n",
       "      <td>[]</td>\n",
       "      <td>NaN</td>\n",
       "      <td>NaN</td>\n",
       "    </tr>\n",
       "  </tbody>\n",
       "</table>\n",
       "</div>"
      ],
      "text/plain": [
       "        user_id        user_key    created_at          created_str  \\\n",
       "0  2.532612e+09       kathiemrr  1.488207e+12  2017-02-27 14:54:00   \n",
       "1  2.531160e+09  traceyhappymom  1.471273e+12  2016-08-15 14:50:20   \n",
       "\n",
       "   retweet_count retweeted  favorite_count  \\\n",
       "0            NaN       NaN             NaN   \n",
       "1            NaN       NaN             NaN   \n",
       "\n",
       "                                                text      tweet_id source  \\\n",
       "0    #ThingsDoneByMistake kissing auntie in the lips  8.362279e+17    NaN   \n",
       "1  RT @mc_derpin: #TheOlderWeGet the more pessimi...  7.651989e+17    NaN   \n",
       "\n",
       "                  hashtags expanded_urls  posted mentions  \\\n",
       "0  [\"ThingsDoneByMistake\"]            []  POSTED       []   \n",
       "1        [\"TheOlderWeGet\"]            []  POSTED       []   \n",
       "\n",
       "   retweeted_status_id  in_reply_to_status_id  \n",
       "0                  NaN                    NaN  \n",
       "1                  NaN                    NaN  "
      ]
     },
     "execution_count": 3,
     "metadata": {},
     "output_type": "execute_result"
    }
   ],
   "source": [
    "# load and preview tweets data\n",
    "tweets = pd.read_csv(\"russian_twitter_trolls/tweets.csv\")\n",
    "tweets.head(2)"
   ]
  },
  {
   "cell_type": "code",
   "execution_count": 4,
   "id": "c9d1e3b7-052f-49a1-97a9-82e7fdc54185",
   "metadata": {},
   "outputs": [
    {
     "data": {
      "text/html": [
       "<div>\n",
       "<style scoped>\n",
       "    .dataframe tbody tr th:only-of-type {\n",
       "        vertical-align: middle;\n",
       "    }\n",
       "\n",
       "    .dataframe tbody tr th {\n",
       "        vertical-align: top;\n",
       "    }\n",
       "\n",
       "    .dataframe thead th {\n",
       "        text-align: right;\n",
       "    }\n",
       "</style>\n",
       "<table border=\"1\" class=\"dataframe\">\n",
       "  <thead>\n",
       "    <tr style=\"text-align: right;\">\n",
       "      <th></th>\n",
       "      <th>id</th>\n",
       "      <th>location</th>\n",
       "      <th>name</th>\n",
       "      <th>followers_count</th>\n",
       "      <th>statuses_count</th>\n",
       "      <th>time_zone</th>\n",
       "      <th>verified</th>\n",
       "      <th>lang</th>\n",
       "      <th>screen_name</th>\n",
       "      <th>description</th>\n",
       "      <th>created_at</th>\n",
       "      <th>favourites_count</th>\n",
       "      <th>friends_count</th>\n",
       "      <th>listed_count</th>\n",
       "    </tr>\n",
       "  </thead>\n",
       "  <tbody>\n",
       "    <tr>\n",
       "      <th>0</th>\n",
       "      <td>100345056.0</td>\n",
       "      <td>still ⬆️Block⤵️Corner⬇️street</td>\n",
       "      <td>#Ezekiel2517✨...</td>\n",
       "      <td>1053.0</td>\n",
       "      <td>31858.0</td>\n",
       "      <td>NaN</td>\n",
       "      <td>False</td>\n",
       "      <td>en</td>\n",
       "      <td>SCOTTGOHARD</td>\n",
       "      <td>CELEBRITY TRAINER ✨#424W147th✨ #CrossfitCoach ...</td>\n",
       "      <td>Tue Dec 29 23:15:22 +0000 2009</td>\n",
       "      <td>2774.0</td>\n",
       "      <td>1055.0</td>\n",
       "      <td>35.0</td>\n",
       "    </tr>\n",
       "    <tr>\n",
       "      <th>1</th>\n",
       "      <td>247165706.0</td>\n",
       "      <td>Chicago, IL</td>\n",
       "      <td>B E C K S T E R✨</td>\n",
       "      <td>650.0</td>\n",
       "      <td>6742.0</td>\n",
       "      <td>Mountain Time (US &amp; Canada)</td>\n",
       "      <td>False</td>\n",
       "      <td>en</td>\n",
       "      <td>Beckster319</td>\n",
       "      <td>Rebecca Lynn Hirschfeld Actress.Model.Writer.A...</td>\n",
       "      <td>Fri Feb 04 06:38:45 +0000 2011</td>\n",
       "      <td>7273.0</td>\n",
       "      <td>896.0</td>\n",
       "      <td>30.0</td>\n",
       "    </tr>\n",
       "  </tbody>\n",
       "</table>\n",
       "</div>"
      ],
      "text/plain": [
       "            id                       location              name  \\\n",
       "0  100345056.0  still ⬆️Block⤵️Corner⬇️street  #Ezekiel2517✨...   \n",
       "1  247165706.0                    Chicago, IL  B E C K S T E R✨   \n",
       "\n",
       "   followers_count  statuses_count                    time_zone verified lang  \\\n",
       "0           1053.0         31858.0                          NaN    False   en   \n",
       "1            650.0          6742.0  Mountain Time (US & Canada)    False   en   \n",
       "\n",
       "   screen_name                                        description  \\\n",
       "0  SCOTTGOHARD  CELEBRITY TRAINER ✨#424W147th✨ #CrossfitCoach ...   \n",
       "1  Beckster319  Rebecca Lynn Hirschfeld Actress.Model.Writer.A...   \n",
       "\n",
       "                       created_at  favourites_count  friends_count  \\\n",
       "0  Tue Dec 29 23:15:22 +0000 2009            2774.0         1055.0   \n",
       "1  Fri Feb 04 06:38:45 +0000 2011            7273.0          896.0   \n",
       "\n",
       "   listed_count  \n",
       "0          35.0  \n",
       "1          30.0  "
      ]
     },
     "execution_count": 4,
     "metadata": {},
     "output_type": "execute_result"
    }
   ],
   "source": [
    "# load and preview users data\n",
    "users = pd.read_csv(\"russian_twitter_trolls/users.csv\")\n",
    "users.head(2)"
   ]
  },
  {
   "cell_type": "code",
   "execution_count": 5,
   "id": "ec0165f9-b42b-453d-93b3-4c09814c5f7c",
   "metadata": {},
   "outputs": [],
   "source": [
    "tweets2 = tweets.loc[~tweets.text.isnull()]  # drop 20 rows with missings in text column"
   ]
  },
  {
   "cell_type": "code",
   "execution_count": 6,
   "id": "9065692c-c841-4231-a969-8245c2e62446",
   "metadata": {},
   "outputs": [
    {
     "data": {
      "application/vnd.jupyter.widget-view+json": {
       "model_id": "611bd152bf7f418da1404baa61d380df",
       "version_major": 2,
       "version_minor": 0
      },
      "text/plain": [
       "  0%|          | 0/203430 [00:00<?, ?it/s]"
      ]
     },
     "metadata": {},
     "output_type": "display_data"
    }
   ],
   "source": [
    "entityArr = []\n",
    "\n",
    "err_num = 0\n",
    "\n",
    "for user_id, tweet_id, text in tqdm(zip(tweets2.user_id, tweets2.tweet_id, tweets2.text), total=tweets2.shape[0]):    \n",
    "    try:\n",
    "        parsedTweet = {}\n",
    "        parsedTweet['user_id'] = user_id\n",
    "        parsedTweet['tweet_id'] = tweet_id\n",
    "        parsedTweet['text'] = text\n",
    "        blob = Text(text)\n",
    "        entities = blob.entities\n",
    "        parsedTweet['entities'] = []\n",
    "        for ent in entities:\n",
    "            eobj = {}\n",
    "            eobj['tag'] = ent.tag\n",
    "            eobj['entity'] = ent\n",
    "            parsedTweet['entities'].append(eobj)\n",
    "        if len(parsedTweet['entities']) > 0:\n",
    "            entityArr.append(parsedTweet)\n",
    "    except Exception as exc:\n",
    "        err_num += 1\n",
    "        # e_type, e_value, e_traceback = sys.exc_info()\n",
    "        # for item in e_value.args:\n",
    "        #     if item.startswith(\"This resource is available in the index but not downloaded\"):\n",
    "        #         !{item.split(\"\\n\\n\")[1]}"
   ]
  },
  {
   "cell_type": "code",
   "execution_count": 7,
   "id": "43be0826-a76b-46c2-81c7-a91b2d236e19",
   "metadata": {},
   "outputs": [
    {
     "data": {
      "text/plain": [
       "[{'user_id': 2532611755.0,\n",
       "  'tweet_id': 8.362278918976512e+17,\n",
       "  'text': '#ThingsDoneByMistake kissing auntie in the lips',\n",
       "  'entities': [{'tag': 'I-PER', 'entity': I-PER(['auntie'])}]},\n",
       " {'user_id': 1694026190.0,\n",
       "  'tweet_id': 7.775946478750597e+17,\n",
       "  'text': 'RT @NahBabyNah: Twitchy: Chuck Todd caught out there shilling for Hillary Clinton\\r\\nThe post BUSTED: Adam Baldwi... https://t.co/ay28pMpDw6 #…',\n",
       "  'entities': [{'tag': 'I-PER', 'entity': I-PER(['Chuck', 'Todd'])},\n",
       "   {'tag': 'I-PER', 'entity': I-PER(['Hillary', 'Clinton'])},\n",
       "   {'tag': 'I-PER', 'entity': I-PER(['Adam', 'Baldwi'])}]},\n",
       " {'user_id': 2587100717.0,\n",
       "  'tweet_id': 7.180400616490312e+17,\n",
       "  'text': 'RT @mcicero10: #BernieSanders #Trump people should rally TOGETHER against the establishment who is 💩-ing on both choices #thefix',\n",
       "  'entities': [{'tag': 'I-PER', 'entity': I-PER(['Trump'])}]}]"
      ]
     },
     "execution_count": 7,
     "metadata": {},
     "output_type": "execute_result"
    }
   ],
   "source": [
    "entityArr[:3]"
   ]
  },
  {
   "cell_type": "code",
   "execution_count": 8,
   "id": "5dd8ff0d-0d89-49d7-85df-cd7c8376194d",
   "metadata": {},
   "outputs": [],
   "source": [
    "with open('parsed_tweets.json', 'w') as f:\n",
    "    json.dump(entityArr, f, ensure_ascii=False, sort_keys=True, indent=4)"
   ]
  },
  {
   "cell_type": "code",
   "execution_count": 12,
   "id": "7ec7c9b0-d7f0-4616-b43e-0078d0eea6cd",
   "metadata": {},
   "outputs": [
    {
     "data": {
      "text/plain": [
       "881"
      ]
     },
     "execution_count": 12,
     "metadata": {},
     "output_type": "execute_result"
    }
   ],
   "source": [
    "20 + err_num  # loss cnt"
   ]
  },
  {
   "cell_type": "code",
   "execution_count": 13,
   "id": "24736af0-9463-4e19-8edf-bddf461d563a",
   "metadata": {},
   "outputs": [
    {
     "data": {
      "text/plain": [
       "0.00433072801455046"
      ]
     },
     "execution_count": 13,
     "metadata": {},
     "output_type": "execute_result"
    }
   ],
   "source": [
    "(20 + err_num) / tweets2.shape[0]  # loss ratio"
   ]
  },
  {
   "cell_type": "code",
   "execution_count": null,
   "id": "5c33312e-ec65-40fd-89b0-abe9bf08eb27",
   "metadata": {},
   "outputs": [],
   "source": []
  }
 ],
 "metadata": {
  "kernelspec": {
   "display_name": "NLP 2022 - Python 3.11 - PyTorch 1.13, Transformers",
   "language": "python",
   "name": "python3"
  },
  "language_info": {
   "codemirror_mode": {
    "name": "ipython",
    "version": 3
   },
   "file_extension": ".py",
   "mimetype": "text/x-python",
   "name": "python",
   "nbconvert_exporter": "python",
   "pygments_lexer": "ipython3",
   "version": "3.11.0"
  }
 },
 "nbformat": 4,
 "nbformat_minor": 5
}
