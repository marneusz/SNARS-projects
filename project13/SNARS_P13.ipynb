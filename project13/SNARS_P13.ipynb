{
 "cells": [
  {
   "cell_type": "markdown",
   "metadata": {},
   "source": [
    "### <span style='font-family:Georgia'> The purpose\n",
    "Recommending the most popular movies among similar users that the user did not watch.\n",
    "\n",
    "### <span style='font-family:Georgia'> The method\n",
    "Compute the similarity between the user identified with the `user_id` given while initializing the object (passed to the constructor) and every other user.\n",
    "Then predict the ratings of movies. The ratings are calculated using a weighted average of the ratings of films by other users, where the weights are equal to the similarity of two users. The similarity is computed based on the pearson correlation scaled to $[0,1]$ interval."
   ]
  },
  {
   "cell_type": "code",
   "execution_count": 24,
   "metadata": {},
   "outputs": [
    {
     "name": "stdout",
     "output_type": "stream",
     "text": [
      "Enabling notebook extension jupyter-js-widgets/extension...\r\n",
      "      - Validating: \u001b[32mOK\u001b[0m\r\n"
     ]
    }
   ],
   "source": [
    "!jupyter nbextension enable --py widgetsnbextension"
   ]
  },
  {
   "cell_type": "code",
   "execution_count": 25,
   "metadata": {},
   "outputs": [],
   "source": [
    "import os\n",
    "import re\n",
    "from collections import Counter\n",
    "from typing import List, Dict\n",
    "from tqdm.notebook import tqdm\n",
    "\n",
    "import pandas as pd\n",
    "from scipy.stats import pearsonr\n",
    "from sklearn.model_selection import train_test_split\n",
    "import random\n",
    "\n",
    "random.seed(10)"
   ]
  },
  {
   "cell_type": "code",
   "execution_count": 26,
   "metadata": {},
   "outputs": [],
   "source": [
    "class RecommenderSystem:\n",
    "    def __init__(self, user_id: int, n_similar: int, min_common: int):\n",
    "        self.user_id = user_id\n",
    "        self.n_similar = n_similar\n",
    "        self.min_common = min_common\n",
    "        self.features = self.__extract_features()\n",
    "        self.similar_users = []\n",
    "\n",
    "    @staticmethod\n",
    "    def __transform_data_to_dict(data: List[str]) -> Dict[int, Dict]:\n",
    "        \"\"\"Function for transforming a line of input text data to a dict\"\"\"\n",
    "        _data = [l.split(\",\") for l in data]\n",
    "        return {int(movie_id): int(rating) for movie_id, rating, date in _data}\n",
    "\n",
    "    def __extract_features(self) -> Dict[int, Dict]:\n",
    "        \"\"\"Extract movies, ratings and dates for this specific user\"\"\"\n",
    "        data: List[str] = []\n",
    "        condition = False\n",
    "        for fname in PATHS:\n",
    "            with open(fname) as f:\n",
    "                for line in f:\n",
    "                    l = line.strip()\n",
    "                    if re.match(r\"\\d+:\", line):\n",
    "                        if condition:\n",
    "                            return self.__transform_data_to_dict(data)\n",
    "                        elif re.match(re.compile(f\"{self.user_id}:\"), l):\n",
    "                            condition = True  # if this is the user id we are looking for, start collecting\n",
    "                        else:\n",
    "                            continue\n",
    "                    else:\n",
    "                        if condition:\n",
    "                            data.append(l)\n",
    "        return __transform_data_to_dict(data)\n",
    "\n",
    "    def compute_users_similarity(\n",
    "        self, user1_preferences: Dict[int, Dict], user2_preferences: Dict[int, Dict]\n",
    "    ) -> float:\n",
    "        \"\"\"Compute the similarity based on the correlation between ratings of movies\"\"\"\n",
    "        common = set(user1_preferences.keys()).intersection(user2_preferences.keys())\n",
    "        common = [x for x in common if x < LIMIT_MOVIES_CNT]\n",
    "        if len(common) < self.min_common:\n",
    "            return 0.0\n",
    "        intersection1 = [user1_preferences[k] for k in common]\n",
    "        intersection2 = [user2_preferences[k] for k in common]\n",
    "        return float((pearsonr(intersection1, intersection2)[0] + 1) / 2)\n",
    "\n",
    "    def get_similar_users(self) -> Dict:\n",
    "        \"\"\"\n",
    "        Function for:\n",
    "            1. parsing the file line by line,\n",
    "            2. computing pairwise similarity between users,\n",
    "            3. if high, saving the user, similarity score and preferences\n",
    "        \"\"\"\n",
    "        highly_similar_user_id = None\n",
    "        data: List[str] = []\n",
    "        for file_name in PATHS:\n",
    "            with open(file_name) as f:\n",
    "                for line in f:\n",
    "                    line = line.strip()\n",
    "                    if re.match(r\"\\d+:\", line):\n",
    "                        if highly_similar_user_id:\n",
    "                            features = self.__transform_data_to_dict(data)\n",
    "                            similarity = self.compute_users_similarity(\n",
    "                                self.features, features\n",
    "                            )\n",
    "                            self.similar_users += [\n",
    "                                {\n",
    "                                    \"user\": highly_similar_user_id,\n",
    "                                    \"similarity\": similarity,\n",
    "                                    \"movies\": features,\n",
    "                                }\n",
    "                            ]\n",
    "                        highly_similar_user_id = int(re.findall(r\"(\\d+):\", line)[0])\n",
    "                        if highly_similar_user_id > LIMIT_USERS_CNT:\n",
    "                            return self.similar_users\n",
    "                        data = []\n",
    "                    else:\n",
    "                        if highly_similar_user_id != self.user_id:\n",
    "                            data.append(line)\n",
    "        return self.similar_users\n",
    "\n",
    "    def recommend(self) -> Dict:\n",
    "        \"\"\"\n",
    "        Function recommending the most popular movies\n",
    "        among similar users that the user did not watch.\n",
    "        \"\"\"\n",
    "        similar_users = self.get_similar_users()\n",
    "        weighted_avg = {}\n",
    "        for preferences in tqdm(similar_users):\n",
    "            for movie_id, rating in preferences[\"movies\"].items():\n",
    "                if movie_id not in weighted_avg:\n",
    "                    weighted_avg[movie_id] = [0] * 3  # numerator, denominator, count\n",
    "                weighted_avg[movie_id][0] += rating * preferences[\"similarity\"]\n",
    "                weighted_avg[movie_id][1] += preferences[\"similarity\"]\n",
    "                weighted_avg[movie_id][2] += 1\n",
    "        result = {\n",
    "            movie_id: value[0] / value[1] if value[0] > 1e-13 else 0\n",
    "            for movie_id, value in weighted_avg.items()\n",
    "            if value[2] > self.min_common\n",
    "        }\n",
    "        return result\n"
   ]
  },
  {
   "cell_type": "code",
   "execution_count": 56,
   "metadata": {},
   "outputs": [],
   "source": [
    "USER_ID = 1\n",
    "N_SIMILAR = 5\n",
    "MIN_COMMON = 10\n",
    "PATHS = [\n",
    "    os.path.join(\"./data/netflix\", \"combined_data_{}.txt\".format(i + 1))\n",
    "    for i in list(range(4))\n",
    "]\n",
    "\n",
    "LIMIT_USERS_CNT = 1000  # limit for shortening calculation time (modifiable parameter)\n",
    "LIMIT_MOVIES_CNT = float(\n",
    "    \"inf\"\n",
    ")  # limit for shortening calculation time (modifiable parameter, here: no limit)\n"
   ]
  },
  {
   "cell_type": "code",
   "execution_count": 78,
   "metadata": {
    "scrolled": true
   },
   "outputs": [
    {
     "data": {
      "application/vnd.jupyter.widget-view+json": {
       "model_id": "70fa692b045b4ea9bcda7329302c8c4e",
       "version_major": 2,
       "version_minor": 0
      },
      "text/plain": [
       "  0%|          | 0/1000 [00:00<?, ?it/s]"
      ]
     },
     "metadata": {},
     "output_type": "display_data"
    },
    {
     "data": {
      "text/html": [
       "<div>\n",
       "<style scoped>\n",
       "    .dataframe tbody tr th:only-of-type {\n",
       "        vertical-align: middle;\n",
       "    }\n",
       "\n",
       "    .dataframe tbody tr th {\n",
       "        vertical-align: top;\n",
       "    }\n",
       "\n",
       "    .dataframe thead th {\n",
       "        text-align: right;\n",
       "    }\n",
       "</style>\n",
       "<table border=\"1\" class=\"dataframe\">\n",
       "  <thead>\n",
       "    <tr style=\"text-align: right;\">\n",
       "      <th></th>\n",
       "      <th>movie</th>\n",
       "      <th>recommendation</th>\n",
       "      <th>test_rating</th>\n",
       "    </tr>\n",
       "  </thead>\n",
       "  <tbody>\n",
       "    <tr>\n",
       "      <th>104402</th>\n",
       "      <td>400162</td>\n",
       "      <td>5.000000</td>\n",
       "      <td>5.0</td>\n",
       "    </tr>\n",
       "    <tr>\n",
       "      <th>114759</th>\n",
       "      <td>1782762</td>\n",
       "      <td>4.824521</td>\n",
       "      <td>4.0</td>\n",
       "    </tr>\n",
       "    <tr>\n",
       "      <th>28138</th>\n",
       "      <td>685565</td>\n",
       "      <td>4.810960</td>\n",
       "      <td>5.0</td>\n",
       "    </tr>\n",
       "    <tr>\n",
       "      <th>39</th>\n",
       "      <td>1664010</td>\n",
       "      <td>4.672587</td>\n",
       "      <td>5.0</td>\n",
       "    </tr>\n",
       "    <tr>\n",
       "      <th>109519</th>\n",
       "      <td>208920</td>\n",
       "      <td>4.515629</td>\n",
       "      <td>4.0</td>\n",
       "    </tr>\n",
       "    <tr>\n",
       "      <th>...</th>\n",
       "      <td>...</td>\n",
       "      <td>...</td>\n",
       "      <td>...</td>\n",
       "    </tr>\n",
       "    <tr>\n",
       "      <th>13114</th>\n",
       "      <td>1009622</td>\n",
       "      <td>2.488926</td>\n",
       "      <td>1.0</td>\n",
       "    </tr>\n",
       "    <tr>\n",
       "      <th>881</th>\n",
       "      <td>1935793</td>\n",
       "      <td>2.418749</td>\n",
       "      <td>1.0</td>\n",
       "    </tr>\n",
       "    <tr>\n",
       "      <th>16020</th>\n",
       "      <td>1878798</td>\n",
       "      <td>2.378989</td>\n",
       "      <td>4.0</td>\n",
       "    </tr>\n",
       "    <tr>\n",
       "      <th>14596</th>\n",
       "      <td>1777406</td>\n",
       "      <td>2.272923</td>\n",
       "      <td>3.0</td>\n",
       "    </tr>\n",
       "    <tr>\n",
       "      <th>2459</th>\n",
       "      <td>1116065</td>\n",
       "      <td>2.214537</td>\n",
       "      <td>1.0</td>\n",
       "    </tr>\n",
       "  </tbody>\n",
       "</table>\n",
       "<p>92 rows × 3 columns</p>\n",
       "</div>"
      ],
      "text/plain": [
       "          movie  recommendation  test_rating\n",
       "104402   400162        5.000000          5.0\n",
       "114759  1782762        4.824521          4.0\n",
       "28138    685565        4.810960          5.0\n",
       "39      1664010        4.672587          5.0\n",
       "109519   208920        4.515629          4.0\n",
       "...         ...             ...          ...\n",
       "13114   1009622        2.488926          1.0\n",
       "881     1935793        2.418749          1.0\n",
       "16020   1878798        2.378989          4.0\n",
       "14596   1777406        2.272923          3.0\n",
       "2459    1116065        2.214537          1.0\n",
       "\n",
       "[92 rows x 3 columns]"
      ]
     },
     "execution_count": 78,
     "metadata": {},
     "output_type": "execute_result"
    }
   ],
   "source": [
    "# Test\n",
    "\n",
    "# initialize the RecommenderSystem instance\n",
    "r = RecommenderSystem(user_id=USER_ID, n_similar=N_SIMILAR, min_common=MIN_COMMON)\n",
    "\n",
    "# get a list of movies and a the ratings for the user given by USER_ID\n",
    "user_features = list(r.features.keys())\n",
    "\n",
    "# split the dictionary into test and train subsets, for the further evaluation\n",
    "train, test = train_test_split(user_features)\n",
    "test_features = {k: v for k, v in r.features.items() if k in test}\n",
    "r.features = {k: v for k, v in r.features.items() if k in train}\n",
    "\n",
    "# calculate the recommendation\n",
    "recommended = r.recommend()\n",
    "recommended_series = pd.DataFrame(\n",
    "    recommended.items(), columns=[\"movie\", \"recommendation\"]\n",
    ").sort_values(\"recommendation\", ascending=False)\n",
    "\n",
    "# evaluate (compare the recommendation with actual user's preferences from test set)\n",
    "recommended_series[\"test_rating\"] = recommended_series[\"movie\"].map(test_features)\n",
    "recommended_series[~recommended_series[\"test_rating\"].isna()]\n"
   ]
  },
  {
   "cell_type": "code",
   "execution_count": 85,
   "metadata": {},
   "outputs": [
    {
     "data": {
      "text/plain": [
       "0.3695652173913043"
      ]
     },
     "execution_count": 85,
     "metadata": {},
     "output_type": "execute_result"
    }
   ],
   "source": [
    "np.abs(np.mean(recommended_series[~recommended_series[\"test_rating\"].isna()][\"recommendation\"] - recommended_series[~recommended_series[\"test_rating\"].isna()][\"test_rating\"]))"
   ]
  },
  {
   "cell_type": "code",
   "execution_count": 86,
   "metadata": {},
   "outputs": [
    {
     "data": {
      "text/plain": [
       "1.1956521739130435"
      ]
     },
     "execution_count": 86,
     "metadata": {},
     "output_type": "execute_result"
    }
   ],
   "source": [
    "np.mean((recommended_series[~recommended_series[\"test_rating\"].isna()][\"recommendation\"] - recommended_series[~recommended_series[\"test_rating\"].isna()][\"test_rating\"]) ** 2)"
   ]
  },
  {
   "cell_type": "code",
   "execution_count": 87,
   "metadata": {},
   "outputs": [],
   "source": [
    "recommended_series[\"recommendation\"] = recommended_series[\"recommendation\"].round()"
   ]
  },
  {
   "cell_type": "code",
   "execution_count": 88,
   "metadata": {},
   "outputs": [
    {
     "data": {
      "text/plain": [
       "0.34782608695652173"
      ]
     },
     "execution_count": 88,
     "metadata": {},
     "output_type": "execute_result"
    }
   ],
   "source": [
    "np.mean(recommended_series[~recommended_series[\"test_rating\"].isna()][\"recommendation\"] == recommended_series[~recommended_series[\"test_rating\"].isna()][\"test_rating\"])"
   ]
  },
  {
   "cell_type": "markdown",
   "metadata": {},
   "source": [
    "## Some EDA\n",
    "\n",
    "References: https://www.kaggle.com/code/fanglidayan/10-netflix-movie-recommender-part-1"
   ]
  },
  {
   "cell_type": "code",
   "execution_count": 1,
   "metadata": {},
   "outputs": [],
   "source": [
    "import string\n",
    "import re\n",
    "import pandas as pd\n",
    "import numpy as np\n",
    "import seaborn as sns\n",
    "import matplotlib.pyplot as plt\n",
    "from collections import Counter\n",
    "from typing import Dict, Text\n",
    "from ast import literal_eval\n",
    "from datetime import datetime\n",
    "from wordcloud import WordCloud\n",
    "import os\n",
    "from sklearn.preprocessing import MinMaxScaler\n",
    "from sklearn.feature_extraction.text import TfidfVectorizer\n",
    "from sklearn.metrics.pairwise import cosine_similarity\n",
    "\n",
    "from collections import deque\n",
    "\n",
    "import warnings\n",
    "warnings.filterwarnings('ignore')"
   ]
  },
  {
   "cell_type": "code",
   "execution_count": 2,
   "metadata": {},
   "outputs": [],
   "source": [
    "path = \"./data/netflix\""
   ]
  },
  {
   "cell_type": "code",
   "execution_count": 3,
   "metadata": {},
   "outputs": [
    {
     "data": {
      "text/html": [
       "<div>\n",
       "<style scoped>\n",
       "    .dataframe tbody tr th:only-of-type {\n",
       "        vertical-align: middle;\n",
       "    }\n",
       "\n",
       "    .dataframe tbody tr th {\n",
       "        vertical-align: top;\n",
       "    }\n",
       "\n",
       "    .dataframe thead th {\n",
       "        text-align: right;\n",
       "    }\n",
       "</style>\n",
       "<table border=\"1\" class=\"dataframe\">\n",
       "  <thead>\n",
       "    <tr style=\"text-align: right;\">\n",
       "      <th></th>\n",
       "      <th>Year</th>\n",
       "      <th>Name</th>\n",
       "    </tr>\n",
       "    <tr>\n",
       "      <th>Id</th>\n",
       "      <th></th>\n",
       "      <th></th>\n",
       "    </tr>\n",
       "  </thead>\n",
       "  <tbody>\n",
       "    <tr>\n",
       "      <th>1</th>\n",
       "      <td>2003.0</td>\n",
       "      <td>Dinosaur Planet</td>\n",
       "    </tr>\n",
       "    <tr>\n",
       "      <th>2</th>\n",
       "      <td>2004.0</td>\n",
       "      <td>Isle of Man TT 2004 Review</td>\n",
       "    </tr>\n",
       "    <tr>\n",
       "      <th>3</th>\n",
       "      <td>1997.0</td>\n",
       "      <td>Character</td>\n",
       "    </tr>\n",
       "    <tr>\n",
       "      <th>4</th>\n",
       "      <td>1994.0</td>\n",
       "      <td>Paula Abdul's Get Up &amp; Dance</td>\n",
       "    </tr>\n",
       "    <tr>\n",
       "      <th>5</th>\n",
       "      <td>2004.0</td>\n",
       "      <td>The Rise and Fall of ECW</td>\n",
       "    </tr>\n",
       "  </tbody>\n",
       "</table>\n",
       "</div>"
      ],
      "text/plain": [
       "      Year                          Name\n",
       "Id                                      \n",
       "1   2003.0               Dinosaur Planet\n",
       "2   2004.0    Isle of Man TT 2004 Review\n",
       "3   1997.0                     Character\n",
       "4   1994.0  Paula Abdul's Get Up & Dance\n",
       "5   2004.0      The Rise and Fall of ECW"
      ]
     },
     "execution_count": 3,
     "metadata": {},
     "output_type": "execute_result"
    }
   ],
   "source": [
    "movie_titles = pd.read_csv(os.path.join(path, \"movie_titles.csv\"),\n",
    "                           encoding = 'ISO-8859-1',\n",
    "                           usecols=range(3),\n",
    "                           lineterminator='\\n',\n",
    "                           header = None, \n",
    "                           names = ['Id', 'Year', 'Name']).set_index('Id')\n",
    "movie_titles.head(5)"
   ]
  },
  {
   "cell_type": "code",
   "execution_count": 4,
   "metadata": {},
   "outputs": [
    {
     "data": {
      "text/plain": [
       "(17770, 2)"
      ]
     },
     "execution_count": 4,
     "metadata": {},
     "output_type": "execute_result"
    }
   ],
   "source": [
    "movie_titles.shape"
   ]
  },
  {
   "cell_type": "code",
   "execution_count": 5,
   "metadata": {},
   "outputs": [],
   "source": [
    "ratings = [pd.read_csv(os.path.join(path, f\"combined_data_{i}.txt\"), \n",
    "                       header=None,\n",
    "                       names=[\"User\", \"Rating\", \"Date\"],\n",
    "                       usecols=range(3))\n",
    "           for i in range(1, 2)]\n"
   ]
  },
  {
   "cell_type": "code",
   "execution_count": 6,
   "metadata": {},
   "outputs": [],
   "source": [
    "df_raw = pd.concat(ratings).reset_index(drop=True)"
   ]
  },
  {
   "cell_type": "code",
   "execution_count": 7,
   "metadata": {},
   "outputs": [],
   "source": [
    "tmp_movies = df_raw[df_raw['Rating'].isna()]['User'].reset_index() # make the original index a new column\n",
    "movie_indices = [[index, int(movie[:-1])] for index, movie in tmp_movies.values]\n",
    "\n",
    "shifted_movie_indices = deque(movie_indices)\n",
    "shifted_movie_indices.rotate(-1)\n",
    "\n",
    "user_data = []"
   ]
  },
  {
   "cell_type": "code",
   "execution_count": 8,
   "metadata": {},
   "outputs": [],
   "source": [
    "for [df_id_1, movie_id], [df_id_2, next_movie_id] in zip(movie_indices, shifted_movie_indices):\n",
    "    \n",
    "    # Check if it is the last movie in the file\n",
    "    if df_id_1<df_id_2:\n",
    "        tmp_df = df_raw.loc[df_id_1+1:df_id_2-1].copy()\n",
    "    else:\n",
    "        tmp_df = df_raw.loc[df_id_1+1:].copy()\n",
    "        \n",
    "    # Create movie_id column\n",
    "    tmp_df['Movie'] = movie_id\n",
    "    \n",
    "    # Append dataframe to list\n",
    "    user_data.append(tmp_df)"
   ]
  },
  {
   "cell_type": "code",
   "execution_count": 9,
   "metadata": {},
   "outputs": [
    {
     "name": "stdout",
     "output_type": "stream",
     "text": [
      "Shape User-Ratings:\t(24053764, 4)\n"
     ]
    },
    {
     "data": {
      "text/html": [
       "<div>\n",
       "<style scoped>\n",
       "    .dataframe tbody tr th:only-of-type {\n",
       "        vertical-align: middle;\n",
       "    }\n",
       "\n",
       "    .dataframe tbody tr th {\n",
       "        vertical-align: top;\n",
       "    }\n",
       "\n",
       "    .dataframe thead th {\n",
       "        text-align: right;\n",
       "    }\n",
       "</style>\n",
       "<table border=\"1\" class=\"dataframe\">\n",
       "  <thead>\n",
       "    <tr style=\"text-align: right;\">\n",
       "      <th></th>\n",
       "      <th>User</th>\n",
       "      <th>Rating</th>\n",
       "      <th>Date</th>\n",
       "      <th>Movie</th>\n",
       "    </tr>\n",
       "  </thead>\n",
       "  <tbody>\n",
       "    <tr>\n",
       "      <th>12684224</th>\n",
       "      <td>1535702</td>\n",
       "      <td>3.0</td>\n",
       "      <td>2005-07-22</td>\n",
       "      <td>2430</td>\n",
       "    </tr>\n",
       "    <tr>\n",
       "      <th>7904968</th>\n",
       "      <td>750677</td>\n",
       "      <td>2.0</td>\n",
       "      <td>2003-05-25</td>\n",
       "      <td>1585</td>\n",
       "    </tr>\n",
       "    <tr>\n",
       "      <th>3065054</th>\n",
       "      <td>918842</td>\n",
       "      <td>4.0</td>\n",
       "      <td>2005-11-25</td>\n",
       "      <td>571</td>\n",
       "    </tr>\n",
       "    <tr>\n",
       "      <th>10807399</th>\n",
       "      <td>1054253</td>\n",
       "      <td>5.0</td>\n",
       "      <td>2004-02-23</td>\n",
       "      <td>2114</td>\n",
       "    </tr>\n",
       "    <tr>\n",
       "      <th>21795104</th>\n",
       "      <td>2231380</td>\n",
       "      <td>3.0</td>\n",
       "      <td>2005-01-20</td>\n",
       "      <td>4123</td>\n",
       "    </tr>\n",
       "    <tr>\n",
       "      <th>8067563</th>\n",
       "      <td>135878</td>\n",
       "      <td>3.0</td>\n",
       "      <td>2003-08-14</td>\n",
       "      <td>1615</td>\n",
       "    </tr>\n",
       "    <tr>\n",
       "      <th>1883599</th>\n",
       "      <td>923889</td>\n",
       "      <td>2.0</td>\n",
       "      <td>2004-04-11</td>\n",
       "      <td>353</td>\n",
       "    </tr>\n",
       "    <tr>\n",
       "      <th>18233186</th>\n",
       "      <td>1138060</td>\n",
       "      <td>5.0</td>\n",
       "      <td>2004-06-26</td>\n",
       "      <td>3466</td>\n",
       "    </tr>\n",
       "    <tr>\n",
       "      <th>2397271</th>\n",
       "      <td>318052</td>\n",
       "      <td>4.0</td>\n",
       "      <td>2005-10-14</td>\n",
       "      <td>457</td>\n",
       "    </tr>\n",
       "    <tr>\n",
       "      <th>9397</th>\n",
       "      <td>901555</td>\n",
       "      <td>5.0</td>\n",
       "      <td>2005-07-11</td>\n",
       "      <td>8</td>\n",
       "    </tr>\n",
       "  </tbody>\n",
       "</table>\n",
       "</div>"
      ],
      "text/plain": [
       "             User  Rating        Date  Movie\n",
       "12684224  1535702     3.0  2005-07-22   2430\n",
       "7904968    750677     2.0  2003-05-25   1585\n",
       "3065054    918842     4.0  2005-11-25    571\n",
       "10807399  1054253     5.0  2004-02-23   2114\n",
       "21795104  2231380     3.0  2005-01-20   4123\n",
       "8067563    135878     3.0  2003-08-14   1615\n",
       "1883599    923889     2.0  2004-04-11    353\n",
       "18233186  1138060     5.0  2004-06-26   3466\n",
       "2397271    318052     4.0  2005-10-14    457\n",
       "9397       901555     5.0  2005-07-11      8"
      ]
     },
     "metadata": {},
     "output_type": "display_data"
    }
   ],
   "source": [
    "df = pd.concat(user_data)\n",
    "print('Shape User-Ratings:\\t{}'.format(df.shape))\n",
    "display(df.sample(10))\n"
   ]
  },
  {
   "cell_type": "code",
   "execution_count": 16,
   "metadata": {},
   "outputs": [
    {
     "data": {
      "text/plain": [
       "Text(0.5, 1.0, 'Number of Movies Released in a Year')"
      ]
     },
     "execution_count": 16,
     "metadata": {},
     "output_type": "execute_result"
    },
    {
     "data": {
      "image/png": "[encoded data removed]",
      "text/plain": [
       "<Figure size 1400x600 with 1 Axes>"
      ]
     },
     "metadata": {},
     "output_type": "display_data"
    }
   ],
   "source": [
    "fig, ax = plt.subplots(1, 1, figsize=(14, 6))\n",
    "\n",
    "data = movie_titles['Year'].value_counts().sort_index()\n",
    "x = data.index.map(int)\n",
    "y = data.values\n",
    "\n",
    "sns.barplot(x=x, y=y)\n",
    "xmin, xmax = plt.xlim()\n",
    "xtick_labels = [x[0]] + list(x[10:-10:10]) + [x[-1]]\n",
    "plt.xticks(ticks=np.linspace(xmin, xmax, 10), labels=xtick_labels)\n",
    "plt.title(\"Number of Movies Released in a Year\")"
   ]
  },
  {
   "cell_type": "code",
   "execution_count": null,
   "metadata": {},
   "outputs": [],
   "source": []
  },
  {
   "cell_type": "code",
   "execution_count": 19,
   "metadata": {
    "scrolled": true
   },
   "outputs": [
    {
     "data": {
      "image/png": "[encoded data removed]",
      "text/plain": [
       "<Figure size 1000x500 with 1 Axes>"
      ]
     },
     "metadata": {},
     "output_type": "display_data"
    }
   ],
   "source": [
    "fig, ax = plt.subplots(1, 1, figsize=(10, 5))\n",
    "\n",
    "data = df['Rating'].value_counts().sort_index()\n",
    "x = data.index.map(int)\n",
    "y = data.values\n",
    "\n",
    "sns.barplot(x=x, y=y)\n",
    "xmin, xmax = plt.xlim()\n",
    "plt.xticks(ticks=[0,1,2,3,4,5]);\n",
    "plt.title(\"Distribution of Rating\")\n",
    "\n",
    "del fig, ax, data, x, y, xmin, xmax"
   ]
  },
  {
   "cell_type": "code",
   "execution_count": 20,
   "metadata": {},
   "outputs": [
    {
     "data": {
      "image/png": "[encoded data removed]",
      "text/plain": [
       "<Figure size 1400x600 with 2 Axes>"
      ]
     },
     "metadata": {},
     "output_type": "display_data"
    }
   ],
   "source": [
    "fig, ax = plt.subplots(1, 2, figsize=(14, 6))\n",
    "\n",
    "data = df.groupby('Movie')['Rating'].count()\n",
    "sns.distplot(data[data  < 10000], kde=False, ax=ax[0], bins=[i for i in range(0,10000,200)]);\n",
    "sns.distplot(data[data  > 10000], kde=False, ax=ax[1], bins=[i for i in range(10000,150000,5000)]);\n",
    "\n",
    "del fig, ax, data"
   ]
  },
  {
   "cell_type": "code",
   "execution_count": 21,
   "metadata": {},
   "outputs": [
    {
     "data": {
      "image/png": "[encoded data removed]",
      "text/plain": [
       "<Figure size 1400x600 with 2 Axes>"
      ]
     },
     "metadata": {},
     "output_type": "display_data"
    }
   ],
   "source": [
    "fig, ax = plt.subplots(1, 2, figsize=(14, 6))\n",
    "\n",
    "data = df.groupby('User')['Rating'].count()\n",
    "sns.distplot(data[data  < 200], kde=False, ax=ax[0]);\n",
    "sns.distplot(data[data  > 200], kde=False, ax=ax[1], bins=[i for i in range(100,1000,20)]);\n",
    "\n",
    "del fig, ax, data"
   ]
  }
 ],
 "metadata": {
  "kernelspec": {
   "display_name": "Python 3.10 (networkX + iGraph)",
   "language": "python",
   "name": "snars"
  },
  "language_info": {
   "codemirror_mode": {
    "name": "ipython",
    "version": 3
   },
   "file_extension": ".py",
   "mimetype": "text/x-python",
   "name": "python",
   "nbconvert_exporter": "python",
   "pygments_lexer": "ipython3",
   "version": "3.10.4"
  }
 },
 "nbformat": 4,
 "nbformat_minor": 4
}
