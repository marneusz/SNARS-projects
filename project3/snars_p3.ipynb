{
 "cells": [
  {
   "cell_type": "markdown",
   "id": "d040a795",
   "metadata": {},
   "source": [
    "# 3.3 "
   ]
  },
  {
   "cell_type": "markdown",
   "id": "0daa9e6a",
   "metadata": {},
   "source": [
    "Calculate the energies. Assume $k=1$ for the start and $q^2=1.$ We can change them afterwards. About $10\\text{-}20$ nodes. E.g. chain graph.\n",
    "\n"
   ]
  }
 ],
 "metadata": {
  "kernelspec": {
   "display_name": "Python 3.10 (networkX + iGraph)",
   "language": "python",
   "name": "snars"
  },
  "language_info": {
   "codemirror_mode": {
    "name": "ipython",
    "version": 3
   },
   "file_extension": ".py",
   "mimetype": "text/x-python",
   "name": "python",
   "nbconvert_exporter": "python",
   "pygments_lexer": "ipython3",
   "version": "3.10.4"
  }
 },
 "nbformat": 4,
 "nbformat_minor": 5
}
